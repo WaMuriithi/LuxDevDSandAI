{
 "cells": [
  {
   "cell_type": "markdown",
   "metadata": {},
   "source": [
    "<p>If you choose a male and female sample at random, what is the probability that the female is taller than the male?</p>\n",
    "\n",
    "<p> Read Welch's ttest, Goodharts Law and metric tracking, Monte Carlo simulation, Multiple Comparisons problem,\n",
    "Resampling methods </p>"
   ]
  },
  {
   "cell_type": "code",
   "execution_count": 1,
   "metadata": {},
   "outputs": [
    {
     "name": "stdout",
     "output_type": "stream",
     "text": [
      "Probability that the female is taller than the male: 0.08440176357393359\n"
     ]
    }
   ],
   "source": [
    "# Import libraries\n",
    "from scipy import stats\n",
    "\n",
    "prob_male = 0.5\n",
    "prob_female = 0.5\n",
    "\n",
    "# Probability female is taller than male equals probability female taller than threshhold.\n",
    "prob_taller_than_170 = 1 - stats.norm.cdf(170, 163, 7.3)\n",
    "\n",
    "# Probability female taller than male = joint probability\n",
    "prob_female_taller_than_male = prob_female * prob_taller_than_170 \n",
    "print(\"Probability that the female is taller than the male:\",\n",
    "      prob_female_taller_than_male)"
   ]
  }
 ],
 "metadata": {
  "kernelspec": {
   "display_name": "Python 3",
   "language": "python",
   "name": "python3"
  },
  "language_info": {
   "codemirror_mode": {
    "name": "ipython",
    "version": 3
   },
   "file_extension": ".py",
   "mimetype": "text/x-python",
   "name": "python",
   "nbconvert_exporter": "python",
   "pygments_lexer": "ipython3",
   "version": "3.12.3"
  }
 },
 "nbformat": 4,
 "nbformat_minor": 2
}
