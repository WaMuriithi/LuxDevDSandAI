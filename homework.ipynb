{
 "cells": [
  {
   "cell_type": "markdown",
   "metadata": {},
   "source": [
    "### Write the formula of the line of best fit and state its scientific name\n",
    "\n",
    "y = mx + c <br/>\n",
    "Where m is the slope and c is the y intercept (the value of y when x = 0)"
   ]
  },
  {
   "cell_type": "markdown",
   "metadata": {},
   "source": [
    "### Write the two formulas of median with regards to grouped and ungrouped data\n",
    "\n",
    "For ungrouped data, the median is the value at the centre\n",
    "    If N is odd, median is value at N/2 +1\n",
    "    If N is even , median is the sum of values at N/2 and N/2 + 1 divided by 2 (N/2 + N/2 +1)/2\n",
    "For grouped data, you identify the median class where the cumulative frequency includes the median\n",
    "class and calculate the median as: \n",
    "    Lower bound of median class *(N/2 -cumulative frequency above median class )/frequency of median class *\n",
    "    class width."
   ]
  },
  {
   "cell_type": "markdown",
   "metadata": {},
   "source": [
    "### Define homoscedasticity and why it's important in analysis\n",
    "Homoscedasticity refers to normal spread of residuals across many values of the independent variable. It is \n",
    "essential in regression to test whether the model derived a good line of best fit that is robust for noise \n",
    "in the training dataset"
   ]
  },
  {
   "cell_type": "markdown",
   "metadata": {},
   "source": [
    "<h3> In the shared data, plot a histogram showing the ages of the policy holders </>"
   ]
  },
  {
   "cell_type": "code",
   "execution_count": 60,
   "metadata": {},
   "outputs": [],
   "source": [
    "import pandas as pd \n",
    "from datetime import datetime\n"
   ]
  },
  {
   "cell_type": "code",
   "execution_count": 33,
   "metadata": {},
   "outputs": [],
   "source": [
    "data = pd.read_csv(r\"C:\\Users\\user\\Downloads\\train_data_cross-sell.csv\",\n",
    "                   encoding='utf-8', parse_dates=['Customer_Date_of_Birth'])"
   ]
  },
  {
   "cell_type": "code",
   "execution_count": 34,
   "metadata": {},
   "outputs": [
    {
     "data": {
      "text/plain": [
       "(324466, 12)"
      ]
     },
     "execution_count": 34,
     "metadata": {},
     "output_type": "execute_result"
    }
   ],
   "source": [
    "data.shape"
   ]
  },
  {
   "cell_type": "code",
   "execution_count": 38,
   "metadata": {},
   "outputs": [
    {
     "data": {
      "text/plain": [
       "yiid                                      int64\n",
       "Gender                                   object\n",
       "Customer_Date_of_Birth           datetime64[ns]\n",
       "Driving_License                           int64\n",
       "Customer_Residence_Sub_County            object\n",
       "Previously_Insured                        int64\n",
       "Vehicle_Year_of_Manufacture               int64\n",
       "Vehicle_Damage                           object\n",
       "Annual_Premium                            int64\n",
       "Agent_name                               object\n",
       "Life_policy_start_date                   object\n",
       "Response                                  int64\n",
       "dtype: object"
      ]
     },
     "execution_count": 38,
     "metadata": {},
     "output_type": "execute_result"
    }
   ],
   "source": [
    "data.dtypes"
   ]
  },
  {
   "cell_type": "code",
   "execution_count": 135,
   "metadata": {},
   "outputs": [],
   "source": [
    "# Add a column for todays date\n",
    "data['now'] = pd.to_datetime((datetime.now()).strftime(\"%D\"))\n",
    "#data['now'] = pd.to_datetime(data['now'])\n",
    "\n",
    "# Add a column for age ( now - date of birth, years)\n",
    "data['age'] = (data['now'] - data['Customer_Date_of_Birth']\n",
    "               ).apply(lambda x: str(x).split()[0]).astype(int)//365\n"
   ]
  },
  {
   "cell_type": "code",
   "execution_count": 136,
   "metadata": {},
   "outputs": [
    {
     "data": {
      "text/plain": [
       "0         47\n",
       "1         22\n",
       "2         30\n",
       "3         25\n",
       "4         23\n",
       "          ..\n",
       "324461    47\n",
       "324462    75\n",
       "324463    30\n",
       "324464    22\n",
       "324465    69\n",
       "Name: age, Length: 324466, dtype: int32"
      ]
     },
     "execution_count": 136,
     "metadata": {},
     "output_type": "execute_result"
    }
   ],
   "source": [
    "data['age']"
   ]
  },
  {
   "cell_type": "code",
   "execution_count": 128,
   "metadata": {},
   "outputs": [
    {
     "name": "stdout",
     "output_type": "stream",
     "text": [
      "<class 'pandas.core.frame.DataFrame'>\n",
      "RangeIndex: 324466 entries, 0 to 324465\n",
      "Data columns (total 14 columns):\n",
      " #   Column                         Non-Null Count   Dtype         \n",
      "---  ------                         --------------   -----         \n",
      " 0   yiid                           324466 non-null  int64         \n",
      " 1   Gender                         324466 non-null  object        \n",
      " 2   Customer_Date_of_Birth         324466 non-null  datetime64[ns]\n",
      " 3   Driving_License                324466 non-null  int64         \n",
      " 4   Customer_Residence_Sub_County  324466 non-null  object        \n",
      " 5   Previously_Insured             324466 non-null  int64         \n",
      " 6   Vehicle_Year_of_Manufacture    324466 non-null  int64         \n",
      " 7   Vehicle_Damage                 324466 non-null  object        \n",
      " 8   Annual_Premium                 324466 non-null  int64         \n",
      " 9   Agent_name                     324466 non-null  object        \n",
      " 10  Life_policy_start_date         324466 non-null  object        \n",
      " 11  Response                       324466 non-null  int64         \n",
      " 12  now                            324466 non-null  datetime64[ns]\n",
      " 13  age                            324466 non-null  int32         \n",
      "dtypes: datetime64[ns](2), int32(1), int64(6), object(5)\n",
      "memory usage: 33.4+ MB\n"
     ]
    }
   ],
   "source": [
    "data.info()"
   ]
  },
  {
   "cell_type": "code",
   "execution_count": 132,
   "metadata": {},
   "outputs": [
    {
     "data": {
      "text/plain": [
       "<Axes: title={'center': 'Customer Age Distribution'}, xlabel='Age', ylabel='Frequency'>"
      ]
     },
     "execution_count": 132,
     "metadata": {},
     "output_type": "execute_result"
    },
    {
     "data": {
      "image/png": "[encoded data removed]",
      "text/plain": [
       "<Figure size 640x480 with 1 Axes>"
      ]
     },
     "metadata": {},
     "output_type": "display_data"
    }
   ],
   "source": [
    "# Plot histogram\n",
    "data['age'].plot(kind='hist', bins =20, title= \"Customer Age Distribution\", xlabel = 'Age')"
   ]
  },
  {
   "cell_type": "markdown",
   "metadata": {},
   "source": [
    "### What is the difference between a boxplot and a countplot?\n",
    "\n",
    "A boxplot shows the distribution of a dataset, showing the first quartile, median, third quartile, and outliers.\n",
    "A countplot is bar chart with counts of categorical variables"
   ]
  },
  {
   "cell_type": "markdown",
   "metadata": {},
   "source": [
    "### What distribution usually has the same mean, median, and mode?\n",
    "The normal distribution"
   ]
  },
  {
   "cell_type": "code",
   "execution_count": 16,
   "metadata": {},
   "outputs": [],
   "source": [
    "my_list = [54, 54, 54, 55, 56, 57, 57, 58, 58, 60, 60]"
   ]
  },
  {
   "cell_type": "code",
   "execution_count": 4,
   "metadata": {},
   "outputs": [],
   "source": [
    "import numpy as np"
   ]
  },
  {
   "cell_type": "code",
   "execution_count": 6,
   "metadata": {},
   "outputs": [
    {
     "name": "stdout",
     "output_type": "stream",
     "text": [
      "[2.64, 2.64, 2.64, 1.64, 0.64, 0.36, 0.36, 1.36, 1.36, 3.36, 3.36]\n"
     ]
    }
   ],
   "source": [
    "# Get the absolute deviation mean using a for loop  and a function\n",
    "my_list = [54, 54, 54, 55, 56, 57, 57, 58, 58, 60, 60]\n",
    "\n",
    "my_deviation = []\n",
    "for i in my_list:\n",
    "    deviation = i - np.mean(my_list)\n",
    "    if deviation < 0:\n",
    "        deviation *= -1\n",
    "    my_deviation.append(round(deviation, 2))\n",
    "print(my_deviation)\n",
    "        "
   ]
  },
  {
   "cell_type": "markdown",
   "metadata": {},
   "source": [
    "### When writing a report do we always start from the smallest or the largest percent\n",
    "\n",
    "I think you should start from the smallest to the largest"
   ]
  },
  {
   "cell_type": "code",
   "execution_count": 38,
   "metadata": {},
   "outputs": [
    {
     "name": "stdout",
     "output_type": "stream",
     "text": [
      "['9th percentile', '9th percentile', '9th percentile', '36th percentile', '45th percentile', '54th percentile', '54th percentile', '72th percentile', '72th percentile', '90th percentile', '90th percentile']\n"
     ]
    }
   ],
   "source": [
    "# Find different percentiles of (my_list) without using libraries\n",
    "\n",
    "my_percentiles = []\n",
    "length = len(my_list)\n",
    "my_list_sorted = sorted(my_list)\n",
    "\n",
    "for i in my_list:\n",
    "    position = my_list.index(i) + 1\n",
    "    position = str(int(position/length*100)) +'th' +\" percentile\"\n",
    "    my_percentiles.append(position)\n",
    "print(my_percentiles)\n",
    "\n"
   ]
  },
  {
   "cell_type": "code",
   "execution_count": null,
   "metadata": {},
   "outputs": [],
   "source": []
  },
  {
   "cell_type": "code",
   "execution_count": null,
   "metadata": {},
   "outputs": [],
   "source": []
  }
 ],
 "metadata": {
  "kernelspec": {
   "display_name": "Python 3",
   "language": "python",
   "name": "python3"
  },
  "language_info": {
   "codemirror_mode": {
    "name": "ipython",
    "version": 3
   },
   "file_extension": ".py",
   "mimetype": "text/x-python",
   "name": "python",
   "nbconvert_exporter": "python",
   "pygments_lexer": "ipython3",
   "version": "3.12.3"
  }
 },
 "nbformat": 4,
 "nbformat_minor": 2
}
