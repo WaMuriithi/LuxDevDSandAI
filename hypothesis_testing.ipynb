{
 "cells": [
  {
   "cell_type": "markdown",
   "metadata": {},
   "source": [
    "# Hypothesis Testing in Python\n",
    "\n",
    "## Introduction\n",
    "Data science is an interdisciplinary field that integrates concepts from applied statistics, data analysis, and computer science to extract insights from vast amounts of data.\n",
    "\n",
    "Many people find statistics intimidating, often recalling complex formulas from high school mathematics. However, modern programming languages like Python and R simplify statistical analysis, making it more intuitive and accessible.\n",
    "\n",
    "A fundamental concept in statistics is **hypothesis testing**, which allows data scientists to draw meaningful conclusions from data. For instance, hypothesis testing enables statements such as *\"Four out of five MAGA supporters lack a college degree\"* or *\"Americans receive as many calls from robots as they do from humans\"* (as referenced in an old Reader's Digest article).\n",
    "\n",
    "## What is Hypothesis Testing?\n",
    "Hypothesis testing helps determine whether the results of an analysis support a research hypothesis or if they fall within the expected range of normal variation (null hypothesis). This ensures that decisions are based on data rather than subjective assumptions, which can be prone to bias.\n",
    "\n",
    "### Steps in Hypothesis Testing\n",
    "Hypothesis testing generally follows five key steps:\n",
    "\n",
    "1. **Define the null and alternative hypotheses**\n",
    "   - The **null hypothesis (H₀)** represents the default assumption of no effect or no difference.\n",
    "   - The **alternative hypothesis (H₁)** is what you aim to prove.\n",
    "\n",
    "2. **Choose the significance level (α)**\n",
    "   - The significance level, commonly set at **0.05**, represents the threshold for rejecting the null hypothesis.\n",
    "\n",
    "3. **Collect and analyze data**\n",
    "   - Obtain and preprocess the dataset for statistical testing.\n",
    "\n",
    "4. **Calculate the test statistic and p-value**\n",
    "   - The test statistic summarizes the dataset to facilitate hypothesis testing.\n",
    "   - The choice of the test statistic depends on the type of data and hypothesis being tested.\n",
    "\n",
    "5. **Compare the test statistic with the critical value or p-value with α and interpret the findings**\n",
    "   - Traditionally, statisticians used tables to determine critical values, but Python and R allow you to do this calculation with a single line of code.\n",
    "   - If the **test statistic** exceeds the critical value (for a right-tailed test) or \n",
    "  if the **p-value** is less than **α**, reject the null hypothesis.\n",
    "   - Otherwise, fail to reject the null hypothesis.\n",
    "\n",
    "## Implementing Hypothesis Testing in Python\n",
    "To demonstrate hypothesis testing, we will compare the means of two groups—such as the average scores of two class streams on the same subject—to determine if one class performed significantly better than the other.\n"
   ]
  },
  {
   "cell_type": "markdown",
   "metadata": {},
   "source": [
    "### **Import Required Libraries**"
   ]
  },
  {
   "cell_type": "code",
   "execution_count": 2,
   "metadata": {},
   "outputs": [],
   "source": [
    "import numpy as np\n",
    "from scipy import stats\n",
    "import pandas as pd"
   ]
  },
  {
   "cell_type": "markdown",
   "metadata": {},
   "source": [
    "### **Generate Sample Data**"
   ]
  },
  {
   "cell_type": "code",
   "execution_count": 3,
   "metadata": {},
   "outputs": [],
   "source": [
    "# Set seed for reproducibility\n",
    "np.random.seed(42)\n",
    "\n",
    "# Generate random exam scores for two classes\n",
    "class_A = np.random.normal(loc=75, scale=10, size=25)  # Mean 75, Std Dev 10\n",
    "class_B = np.random.normal(loc=80, scale=10, size=25)  # Mean 80, Std Dev 10"
   ]
  },
  {
   "cell_type": "markdown",
   "metadata": {},
   "source": [
    "### **Perform an Independent t-Test**"
   ]
  },
  {
   "cell_type": "code",
   "execution_count": 17,
   "metadata": {},
   "outputs": [
    {
     "name": "stdout",
     "output_type": "stream",
     "text": [
      "T-statistic: -1.413\n",
      "P-value: 0.164\n",
      "Critical t-value: -0.680\n",
      "Fail to reject the null hypothesis: No significant difference between the two classes. \n"
     ]
    }
   ],
   "source": [
    "# Conduct an independent t-test\n",
    "stat, p_value = stats.ttest_ind(class_A, class_B)\n",
    "\n",
    "# Critical t value: (two-tailed, df = total students -2)\n",
    "t_critical = stats.t.ppf(q = 0.25, df = 48)  \n",
    "\n",
    "print(f\"T-statistic: {stat:.3f}\")\n",
    "print(f\"P-value: {p_value:.3f}\")\n",
    "print(f\"Critical t-value: {t_critical:.3f}\")\n",
    "# Interpret the results\n",
    "alpha = 0.05  # Significance level\n",
    "if p_value < alpha:\n",
    "    print(\"Reject the null hypothesis: There is a significant difference\\\n",
    " in performance between the two classes.\")\n",
    "else:\n",
    "    print(\"Fail to reject the null hypothesis: No significant difference\\\n",
    " between the two classes. \")"
   ]
  },
  {
   "cell_type": "markdown",
   "metadata": {},
   "source": [
    "## Conclusion\n",
    "Hypothesis testing is an essential statistical method that enables data-driven decision-making. Using Python, we can efficiently conduct hypothesis tests, such as the t-test, to validate assumptions and derive meaningful insights from data. With just a few lines of code, we can determine whether observed differences are statistically significant, reinforcing the importance of data science in real-world applications.\n",
    "\n",
    "---\n",
    "This article has provided an overview of hypothesis testing and its implementation in Python. As you continue your journey in data science, mastering statistical concepts like hypothesis testing will build your data analysis prowess, ensuring you provide organizations with sound advice from their data arsenals."
   ]
  },
  {
   "cell_type": "markdown",
   "metadata": {},
   "source": []
  }
 ],
 "metadata": {
  "kernelspec": {
   "display_name": "Python 3",
   "language": "python",
   "name": "python3"
  },
  "language_info": {
   "codemirror_mode": {
    "name": "ipython",
    "version": 3
   },
   "file_extension": ".py",
   "mimetype": "text/x-python",
   "name": "python",
   "nbconvert_exporter": "python",
   "pygments_lexer": "ipython3",
   "version": "3.12.3"
  }
 },
 "nbformat": 4,
 "nbformat_minor": 2
}
