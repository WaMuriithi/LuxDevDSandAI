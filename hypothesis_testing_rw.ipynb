{
 "cells": [
  {
   "cell_type": "markdown",
   "metadata": {},
   "source": [
    "# Hypothesis testing in Python\n",
    "\n",
    "## Introduction\n",
    "Data science is an interdisciplinary field integrating concepts from applied statistics, data analysis, and computer science to get the best out of the terabytes of data we generated daily.\n",
    "\n",
    "Many people would like to hear the last about statistics – the subject rekindles bad memories of high school mathematics. It doesn’t have to be that way. Learning and using statistics in data science is not only fun but a lot easier as Python and R, the most common programming languages in data science, provide intuitive, agile, and fast methods to perform calculations that the best scientific calculator can only dream of. The programming languages provide tools to simulate any imaginable distribution for students to practice statistical concepts and understand the subject inside out. \n",
    "\n",
    "At the center of statistics is **hypothesis testing** – the branch of statistics that data scientists to draw sound conclusions from the data. Hypotheses testing allow media houses and polling companies to make statements like four out of five MAGA supporters lack a college degree or one I picked from an old Readers Digest article: Americans get called by robots as much as they do by humans. \n",
    "\n",
    "## What is hypothesis Testing?\n",
    "Hypothesis testing lets you determine if the summary finding you have obtained after your analysis (the test statistic) proves your assumption(s) or it is within the expected normal range (the null hypothesis). Hypothesis testing ensures conclusions made after analyses are based on the data, rather than assumptions and insinuations that are prone to bias and abuse by powerful agents.\n",
    "\n",
    "### Steps in Hypothesis Testing  \n",
    "Hypothesis testing generally follows five steps: \n",
    "1.\t **Define the null and alternative hypotheses**\n",
    "\t - The **null hypothesis (_H<sub>O</sub>_)** is default/no effect/no difference position\n",
    "  \t - The **alternative hypothesis (_H<sub>1</sub>_)** is what you aim to prove.\n",
    "2.\t**Choose the significance level (α)**\n",
    "\t- This is the threshold for rejecting the null hypothesis. Test statistics (explained in step 4) with a probability of occurrence lower than the significance level are very rare. Most tests use a significance level of 0.05. \n",
    "3.\t**Collect and analyze data**\n",
    "\t- Obtain and preprocess data for statistical analysis by removing null values, duplicates and outliers.\n",
    "4.\t**Calculate the test statistic or the p-value**\n",
    "\t- This is a summary of the dataset that you use to perform the hypothesis test. \n",
    "\t- The choice of the test statistic depends on the data and hypothesis you seek to test.\n",
    "5.\t**Compare the test statistic with critical value or the p-value and α and interpret the findings**\n",
    "\t- Statisticians of yore used tables to determine critical values; Python and R allow you to calculate with one line of code\n",
    "\t- If the test statistic is larger than the critical value (for a right-tailed tests) or p-value is less than α, you reject the null hypothesis.\n",
    "\t- Otherwise fail to reject the null hypothesis. \n",
    "## Implementing in Python\n",
    "We will compare the means of two groups, such as the average scores of two streams of a class on the same subject to determine the difference in mean scores for the to classes is statistically significant. We will generate scores using Numpy, the numerical python API that is indispensable in data science and perform a t test using SciPy (Scientific Python), another important API for statistical analysis.\n",
    "Test statistics falling in the critical region demarcated by the critical value or the α are considered statistically significant. \n"
   ]
  },
  {
   "cell_type": "markdown",
   "metadata": {},
   "source": [
    "### **Import Required Libraries** "
   ]
  },
  {
   "cell_type": "code",
   "execution_count": 12,
   "metadata": {},
   "outputs": [],
   "source": [
    "import numpy as np \n",
    "from scipy import stats \n"
   ]
  },
  {
   "cell_type": "markdown",
   "metadata": {},
   "source": [
    "### **Generate Sample Data** \n"
   ]
  },
  {
   "cell_type": "code",
   "execution_count": 9,
   "metadata": {},
   "outputs": [],
   "source": [
    "# Set seed for reproducibility\n",
    "np.random.seed(42)\n",
    "\n",
    "# Generate random exam scores for two classes\n",
    "class_A = np.random.normal(loc=75, scale=10, size=25)  # Mean 75, Std Dev 10\n",
    "class_B = np.random.normal(loc=80, scale=10, size=25)  # Mean 80, Std Dev 10"
   ]
  },
  {
   "cell_type": "markdown",
   "metadata": {},
   "source": [
    "### **Perform an Independent t-Test** \n"
   ]
  },
  {
   "cell_type": "code",
   "execution_count": 13,
   "metadata": {},
   "outputs": [
    {
     "name": "stdout",
     "output_type": "stream",
     "text": [
      "T-statistic: -1.413\n",
      "P-value: 0.164\n",
      "Critical t-value: -0.680\n",
      "Fail to reject the null hypothesis: No significant difference between the two classes. \n"
     ]
    }
   ],
   "source": [
    "# Conduct an independent t-test\n",
    "stat, p_value = stats.ttest_ind(class_A, class_B)\n",
    "\n",
    "# Critical t value: (two-tailed, df = total students -2)\n",
    "t_critical = stats.t.ppf(q = 0.25, df = 48)  \n",
    "\n",
    "print(f\"T-statistic: {stat:.3f}\")\n",
    "print(f\"P-value: {p_value:.3f}\")\n",
    "print(f\"Critical t-value: {t_critical:.3f}\")\n",
    "# Interpret the results\n",
    "alpha = 0.05  # Significance level\n",
    "if p_value < alpha:\n",
    "    print(\"Reject the null hypothesis: There is a significant difference\\\n",
    " in performance between the two classes.\")\n",
    "else:\n",
    "    print(\"Fail to reject the null hypothesis: No significant difference\\\n",
    " between the two classes. \")"
   ]
  },
  {
   "cell_type": "markdown",
   "metadata": {},
   "source": [
    "Please note statistical significance is not the same as practical importance. For instance, a statistically significant difference in the pain scores in two groups taking different painkillers does not mean that one drug reduces pain and the other doesn’t. How meaningful the difference obtained after testinf a hypothesis will be the subject of another article on __effect size__.\n",
    "\n",
    "## Conclusion\n",
    "Hypothesis testing is an essential method in data analysis and science that enables sound decisions based on the data. Python provides several libraries and functions to perform hypothesis testing for groups with few or millions of observations. With just a few lines of code, Python permits the testing of null and alternative hypotheses, ensuring the data speaks for itself. \n",
    "\n",
    "<hr>"
   ]
  },
  {
   "cell_type": "markdown",
   "metadata": {},
   "source": []
  }
 ],
 "metadata": {
  "kernelspec": {
   "display_name": "Python 3",
   "language": "python",
   "name": "python3"
  },
  "language_info": {
   "codemirror_mode": {
    "name": "ipython",
    "version": 3
   },
   "file_extension": ".py",
   "mimetype": "text/x-python",
   "name": "python",
   "nbconvert_exporter": "python",
   "pygments_lexer": "ipython3",
   "version": "3.12.3"
  }
 },
 "nbformat": 4,
 "nbformat_minor": 2
}
